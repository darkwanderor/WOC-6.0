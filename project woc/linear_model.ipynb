{
 "cells": [
  {
   "cell_type": "code",
   "execution_count": 1,
   "id": "10c2863e",
   "metadata": {},
   "outputs": [],
   "source": [
    "import numpy as np\n",
    "import pandas as pd\n",
    "import matplotlib.pyplot as plt"
   ]
  },
  {
   "cell_type": "code",
   "execution_count": 2,
   "id": "28015049",
   "metadata": {},
   "outputs": [],
   "source": [
    "def compute_cost(x,y,w,b,lambda_):\n",
    "    m,n=x.shape #m is examples,n is features\n",
    "    Y=np.dot(w,x.T)+b\n",
    "    a=(Y-y)**2/(2*m)\n",
    "    c=a.sum()+lambda_*(np.abs(w).sum())/(2*m)\n",
    "    return c\n",
    "    "
   ]
  },
  {
   "cell_type": "code",
   "execution_count": 3,
   "id": "e08f3f99",
   "metadata": {},
   "outputs": [],
   "source": [
    "def cost_der(x,y,w,b,lambda_):\n",
    "    m,n=x.shape\n",
    "    dw=np.dot((np.dot(w,x.T)+b-y),x)/(m)+lambda_*np.sign(w)/m\n",
    "    db=(np.dot(w,x.T)+b-y)/m\n",
    "    return dw,db.sum()"
   ]
  },
  {
   "cell_type": "code",
   "execution_count": 4,
   "id": "d5d3bf25",
   "metadata": {},
   "outputs": [],
   "source": [
    "def norm(p):\n",
    "    a=np.zeros(len(p))\n",
    "    a=(p-p.mean())/(np.std(p)+1e-15)\n",
    "    return a\n",
    "\n",
    "def normalize(x):\n",
    "    m,n=x.shape\n",
    "    p=np.zeros(n)\n",
    "    x1=np.zeros((m,n))\n",
    "    for i in range(n):\n",
    "        p=x[:,i]\n",
    "        a=norm(p)\n",
    "        x1[:,i]=a\n",
    "    return x1"
   ]
  },
  {
   "cell_type": "code",
   "execution_count": 5,
   "id": "f2304b4f",
   "metadata": {},
   "outputs": [],
   "source": [
    "def grad_desc(x,y,alpha,iter,lambda_=100):\n",
    "    m,n=x.shape #m is examples,n is features\n",
    "    w_in=np.zeros(n)\n",
    "    b_in=0\n",
    "    cost=[]\n",
    "    for i in range(iter):\n",
    "        dw,db=cost_der(x,y,w_in,b_in,lambda_)\n",
    "        w_in-=alpha*dw\n",
    "        b_in-=alpha*db\n",
    "        c=compute_cost(x,y,w_in,b_in,lambda_)\n",
    "        cost.append(c)\n",
    "        if i%(iter//10)==0:\n",
    "            print('iter:',i,'cost:',c)\n",
    "    return w_in,b_in,cost"
   ]
  },
  {
   "cell_type": "code",
   "execution_count": 6,
   "id": "ab3c62f5",
   "metadata": {},
   "outputs": [],
   "source": [
    "def calculate_r2_score(actual_values, predicted_values):\n",
    "    \n",
    "    mean_actual = np.mean(actual_values)   \n",
    "    ss_t = np.sum((actual_values-mean_actual)**2)   \n",
    "    ss_r = np.sum((actual_values-predicted_values)**2)\n",
    "    r2_score = 1 -(ss_r/ss_t)\n",
    "    return r2_score\n",
    "def pred(x,w,b):\n",
    "    p=np.dot(w,x.T)+b\n",
    "    return p"
   ]
  },
  {
   "cell_type": "code",
   "execution_count": 7,
   "id": "93ca398f",
   "metadata": {},
   "outputs": [],
   "source": [
    "def train_test_split(x,y,test_size):\n",
    "    m,n=x.shape\n",
    "    indices=np.arange(m)\n",
    "    p=np.random.permutation(indices)\n",
    "    x_test=x[p][:int(m*test_size)]\n",
    "    y_test=y[p][:int(m*test_size)]\n",
    "    x_train=x[p][int(m*test_size):]\n",
    "    y_train=y[p][int(m*test_size):]\n",
    "    return x_train,y_train,x_test,y_test"
   ]
  },
  {
   "cell_type": "code",
   "execution_count": 8,
   "id": "81850b2e",
   "metadata": {},
   "outputs": [],
   "source": [
    "df=pd.read_csv('Lineardata_train.csv')"
   ]
  },
  {
   "cell_type": "code",
   "execution_count": 9,
   "id": "86d40711",
   "metadata": {},
   "outputs": [
    {
     "data": {
      "text/html": [
       "<div>\n",
       "<style scoped>\n",
       "    .dataframe tbody tr th:only-of-type {\n",
       "        vertical-align: middle;\n",
       "    }\n",
       "\n",
       "    .dataframe tbody tr th {\n",
       "        vertical-align: top;\n",
       "    }\n",
       "\n",
       "    .dataframe thead th {\n",
       "        text-align: right;\n",
       "    }\n",
       "</style>\n",
       "<table border=\"1\" class=\"dataframe\">\n",
       "  <thead>\n",
       "    <tr style=\"text-align: right;\">\n",
       "      <th></th>\n",
       "      <th>target</th>\n",
       "      <th>feature 1</th>\n",
       "      <th>feature 2</th>\n",
       "      <th>feature 3</th>\n",
       "      <th>feature 4</th>\n",
       "      <th>feature 5</th>\n",
       "      <th>feature 6</th>\n",
       "      <th>feature 7</th>\n",
       "      <th>feature 8</th>\n",
       "      <th>feature 9</th>\n",
       "      <th>...</th>\n",
       "      <th>feature 11</th>\n",
       "      <th>feature 12</th>\n",
       "      <th>feature 13</th>\n",
       "      <th>feature 14</th>\n",
       "      <th>feature 15</th>\n",
       "      <th>feature 16</th>\n",
       "      <th>feature 17</th>\n",
       "      <th>feature 18</th>\n",
       "      <th>feature 19</th>\n",
       "      <th>feature 20</th>\n",
       "    </tr>\n",
       "  </thead>\n",
       "  <tbody>\n",
       "    <tr>\n",
       "      <th>0</th>\n",
       "      <td>-5928.102746</td>\n",
       "      <td>-0.900470</td>\n",
       "      <td>0.850978</td>\n",
       "      <td>-2.069526</td>\n",
       "      <td>0.573887</td>\n",
       "      <td>-6.878165</td>\n",
       "      <td>1.533172</td>\n",
       "      <td>-6.163896</td>\n",
       "      <td>-18.134398</td>\n",
       "      <td>17.040815</td>\n",
       "      <td>...</td>\n",
       "      <td>-12.524825</td>\n",
       "      <td>3.376208</td>\n",
       "      <td>-19.266370</td>\n",
       "      <td>-24.347122</td>\n",
       "      <td>-21.504898</td>\n",
       "      <td>-83.231616</td>\n",
       "      <td>23.086856</td>\n",
       "      <td>-9.684523</td>\n",
       "      <td>18.211899</td>\n",
       "      <td>-16.848424</td>\n",
       "    </tr>\n",
       "    <tr>\n",
       "      <th>1</th>\n",
       "      <td>-738.890855</td>\n",
       "      <td>-0.266567</td>\n",
       "      <td>2.865496</td>\n",
       "      <td>-6.396780</td>\n",
       "      <td>1.517906</td>\n",
       "      <td>-0.339633</td>\n",
       "      <td>-2.173984</td>\n",
       "      <td>-7.100097</td>\n",
       "      <td>30.940664</td>\n",
       "      <td>-1.158169</td>\n",
       "      <td>...</td>\n",
       "      <td>5.686297</td>\n",
       "      <td>-6.862812</td>\n",
       "      <td>7.168795</td>\n",
       "      <td>-17.873042</td>\n",
       "      <td>-51.859538</td>\n",
       "      <td>9.262772</td>\n",
       "      <td>19.648597</td>\n",
       "      <td>6.529141</td>\n",
       "      <td>-4.577279</td>\n",
       "      <td>28.080530</td>\n",
       "    </tr>\n",
       "    <tr>\n",
       "      <th>2</th>\n",
       "      <td>-20186.841587</td>\n",
       "      <td>-0.058919</td>\n",
       "      <td>0.635366</td>\n",
       "      <td>-3.563216</td>\n",
       "      <td>1.848845</td>\n",
       "      <td>-4.255648</td>\n",
       "      <td>-6.495151</td>\n",
       "      <td>14.768858</td>\n",
       "      <td>20.968617</td>\n",
       "      <td>10.851276</td>\n",
       "      <td>...</td>\n",
       "      <td>16.819230</td>\n",
       "      <td>-8.112394</td>\n",
       "      <td>7.120777</td>\n",
       "      <td>4.301635</td>\n",
       "      <td>-36.838036</td>\n",
       "      <td>-408.786938</td>\n",
       "      <td>14.054136</td>\n",
       "      <td>-6.451438</td>\n",
       "      <td>-17.080408</td>\n",
       "      <td>-13.500953</td>\n",
       "    </tr>\n",
       "    <tr>\n",
       "      <th>3</th>\n",
       "      <td>30145.771674</td>\n",
       "      <td>-0.892483</td>\n",
       "      <td>-0.287881</td>\n",
       "      <td>-1.643086</td>\n",
       "      <td>0.630195</td>\n",
       "      <td>-2.989874</td>\n",
       "      <td>-6.706778</td>\n",
       "      <td>1.035763</td>\n",
       "      <td>42.115932</td>\n",
       "      <td>4.530884</td>\n",
       "      <td>...</td>\n",
       "      <td>-13.998268</td>\n",
       "      <td>-1.071906</td>\n",
       "      <td>40.051813</td>\n",
       "      <td>4.392608</td>\n",
       "      <td>-31.311818</td>\n",
       "      <td>534.588309</td>\n",
       "      <td>-20.380642</td>\n",
       "      <td>-1.092364</td>\n",
       "      <td>28.453693</td>\n",
       "      <td>14.643806</td>\n",
       "    </tr>\n",
       "    <tr>\n",
       "      <th>4</th>\n",
       "      <td>-3469.553888</td>\n",
       "      <td>-1.568419</td>\n",
       "      <td>1.535581</td>\n",
       "      <td>-4.562323</td>\n",
       "      <td>-1.953245</td>\n",
       "      <td>-3.505171</td>\n",
       "      <td>2.970568</td>\n",
       "      <td>11.589140</td>\n",
       "      <td>32.642438</td>\n",
       "      <td>-6.865592</td>\n",
       "      <td>...</td>\n",
       "      <td>10.057674</td>\n",
       "      <td>-3.719569</td>\n",
       "      <td>-52.342557</td>\n",
       "      <td>-13.150729</td>\n",
       "      <td>0.922421</td>\n",
       "      <td>-6.818339</td>\n",
       "      <td>-9.958228</td>\n",
       "      <td>12.798234</td>\n",
       "      <td>0.804627</td>\n",
       "      <td>1.271561</td>\n",
       "    </tr>\n",
       "    <tr>\n",
       "      <th>...</th>\n",
       "      <td>...</td>\n",
       "      <td>...</td>\n",
       "      <td>...</td>\n",
       "      <td>...</td>\n",
       "      <td>...</td>\n",
       "      <td>...</td>\n",
       "      <td>...</td>\n",
       "      <td>...</td>\n",
       "      <td>...</td>\n",
       "      <td>...</td>\n",
       "      <td>...</td>\n",
       "      <td>...</td>\n",
       "      <td>...</td>\n",
       "      <td>...</td>\n",
       "      <td>...</td>\n",
       "      <td>...</td>\n",
       "      <td>...</td>\n",
       "      <td>...</td>\n",
       "      <td>...</td>\n",
       "      <td>...</td>\n",
       "      <td>...</td>\n",
       "    </tr>\n",
       "    <tr>\n",
       "      <th>49995</th>\n",
       "      <td>-7567.227845</td>\n",
       "      <td>2.029910</td>\n",
       "      <td>-0.928164</td>\n",
       "      <td>-2.463563</td>\n",
       "      <td>5.312071</td>\n",
       "      <td>2.070290</td>\n",
       "      <td>0.835355</td>\n",
       "      <td>-4.421930</td>\n",
       "      <td>18.292309</td>\n",
       "      <td>-10.357047</td>\n",
       "      <td>...</td>\n",
       "      <td>-2.827488</td>\n",
       "      <td>17.940836</td>\n",
       "      <td>25.724137</td>\n",
       "      <td>-29.713820</td>\n",
       "      <td>0.625372</td>\n",
       "      <td>-183.410260</td>\n",
       "      <td>19.439815</td>\n",
       "      <td>6.640099</td>\n",
       "      <td>-41.093484</td>\n",
       "      <td>-1.010290</td>\n",
       "    </tr>\n",
       "    <tr>\n",
       "      <th>49996</th>\n",
       "      <td>-9973.851789</td>\n",
       "      <td>-0.223475</td>\n",
       "      <td>0.341542</td>\n",
       "      <td>-4.423256</td>\n",
       "      <td>-0.104668</td>\n",
       "      <td>4.384320</td>\n",
       "      <td>-2.290826</td>\n",
       "      <td>4.612476</td>\n",
       "      <td>29.667901</td>\n",
       "      <td>-9.675776</td>\n",
       "      <td>...</td>\n",
       "      <td>-17.744738</td>\n",
       "      <td>-0.708422</td>\n",
       "      <td>15.907878</td>\n",
       "      <td>10.865072</td>\n",
       "      <td>-31.280568</td>\n",
       "      <td>-354.186800</td>\n",
       "      <td>6.363459</td>\n",
       "      <td>0.370644</td>\n",
       "      <td>35.952861</td>\n",
       "      <td>3.752642</td>\n",
       "    </tr>\n",
       "    <tr>\n",
       "      <th>49997</th>\n",
       "      <td>-8246.697221</td>\n",
       "      <td>-0.321085</td>\n",
       "      <td>1.608386</td>\n",
       "      <td>-11.177100</td>\n",
       "      <td>-1.140550</td>\n",
       "      <td>-10.832891</td>\n",
       "      <td>-8.625981</td>\n",
       "      <td>-27.740091</td>\n",
       "      <td>-14.166217</td>\n",
       "      <td>9.169728</td>\n",
       "      <td>...</td>\n",
       "      <td>3.841781</td>\n",
       "      <td>-17.941987</td>\n",
       "      <td>-2.167623</td>\n",
       "      <td>11.336067</td>\n",
       "      <td>-2.542123</td>\n",
       "      <td>-98.327808</td>\n",
       "      <td>-13.690353</td>\n",
       "      <td>-4.299753</td>\n",
       "      <td>16.053032</td>\n",
       "      <td>14.812715</td>\n",
       "    </tr>\n",
       "    <tr>\n",
       "      <th>49998</th>\n",
       "      <td>-9101.101377</td>\n",
       "      <td>-2.383432</td>\n",
       "      <td>1.214911</td>\n",
       "      <td>0.925113</td>\n",
       "      <td>0.017874</td>\n",
       "      <td>2.022561</td>\n",
       "      <td>1.209647</td>\n",
       "      <td>5.006908</td>\n",
       "      <td>-12.043059</td>\n",
       "      <td>-5.756141</td>\n",
       "      <td>...</td>\n",
       "      <td>5.308136</td>\n",
       "      <td>12.387029</td>\n",
       "      <td>20.220357</td>\n",
       "      <td>-1.359887</td>\n",
       "      <td>83.958829</td>\n",
       "      <td>-314.127483</td>\n",
       "      <td>-2.550699</td>\n",
       "      <td>-5.082801</td>\n",
       "      <td>7.514089</td>\n",
       "      <td>30.150485</td>\n",
       "    </tr>\n",
       "    <tr>\n",
       "      <th>49999</th>\n",
       "      <td>3420.729860</td>\n",
       "      <td>1.396534</td>\n",
       "      <td>1.044984</td>\n",
       "      <td>6.974686</td>\n",
       "      <td>-2.503387</td>\n",
       "      <td>-6.951460</td>\n",
       "      <td>-7.683350</td>\n",
       "      <td>-15.804647</td>\n",
       "      <td>-5.326198</td>\n",
       "      <td>11.574373</td>\n",
       "      <td>...</td>\n",
       "      <td>5.594694</td>\n",
       "      <td>-2.408064</td>\n",
       "      <td>6.790581</td>\n",
       "      <td>-12.917546</td>\n",
       "      <td>-5.899725</td>\n",
       "      <td>-24.414767</td>\n",
       "      <td>-37.180535</td>\n",
       "      <td>-2.134946</td>\n",
       "      <td>90.429367</td>\n",
       "      <td>-36.412232</td>\n",
       "    </tr>\n",
       "  </tbody>\n",
       "</table>\n",
       "<p>50000 rows × 21 columns</p>\n",
       "</div>"
      ],
      "text/plain": [
       "             target  feature 1  feature 2  feature 3  feature 4  feature 5  \\\n",
       "0      -5928.102746  -0.900470   0.850978  -2.069526   0.573887  -6.878165   \n",
       "1       -738.890855  -0.266567   2.865496  -6.396780   1.517906  -0.339633   \n",
       "2     -20186.841587  -0.058919   0.635366  -3.563216   1.848845  -4.255648   \n",
       "3      30145.771674  -0.892483  -0.287881  -1.643086   0.630195  -2.989874   \n",
       "4      -3469.553888  -1.568419   1.535581  -4.562323  -1.953245  -3.505171   \n",
       "...             ...        ...        ...        ...        ...        ...   \n",
       "49995  -7567.227845   2.029910  -0.928164  -2.463563   5.312071   2.070290   \n",
       "49996  -9973.851789  -0.223475   0.341542  -4.423256  -0.104668   4.384320   \n",
       "49997  -8246.697221  -0.321085   1.608386 -11.177100  -1.140550 -10.832891   \n",
       "49998  -9101.101377  -2.383432   1.214911   0.925113   0.017874   2.022561   \n",
       "49999   3420.729860   1.396534   1.044984   6.974686  -2.503387  -6.951460   \n",
       "\n",
       "       feature 6  feature 7  feature 8  feature 9  ...  feature 11  \\\n",
       "0       1.533172  -6.163896 -18.134398  17.040815  ...  -12.524825   \n",
       "1      -2.173984  -7.100097  30.940664  -1.158169  ...    5.686297   \n",
       "2      -6.495151  14.768858  20.968617  10.851276  ...   16.819230   \n",
       "3      -6.706778   1.035763  42.115932   4.530884  ...  -13.998268   \n",
       "4       2.970568  11.589140  32.642438  -6.865592  ...   10.057674   \n",
       "...          ...        ...        ...        ...  ...         ...   \n",
       "49995   0.835355  -4.421930  18.292309 -10.357047  ...   -2.827488   \n",
       "49996  -2.290826   4.612476  29.667901  -9.675776  ...  -17.744738   \n",
       "49997  -8.625981 -27.740091 -14.166217   9.169728  ...    3.841781   \n",
       "49998   1.209647   5.006908 -12.043059  -5.756141  ...    5.308136   \n",
       "49999  -7.683350 -15.804647  -5.326198  11.574373  ...    5.594694   \n",
       "\n",
       "       feature 12  feature 13  feature 14  feature 15  feature 16  feature 17  \\\n",
       "0        3.376208  -19.266370  -24.347122  -21.504898  -83.231616   23.086856   \n",
       "1       -6.862812    7.168795  -17.873042  -51.859538    9.262772   19.648597   \n",
       "2       -8.112394    7.120777    4.301635  -36.838036 -408.786938   14.054136   \n",
       "3       -1.071906   40.051813    4.392608  -31.311818  534.588309  -20.380642   \n",
       "4       -3.719569  -52.342557  -13.150729    0.922421   -6.818339   -9.958228   \n",
       "...           ...         ...         ...         ...         ...         ...   \n",
       "49995   17.940836   25.724137  -29.713820    0.625372 -183.410260   19.439815   \n",
       "49996   -0.708422   15.907878   10.865072  -31.280568 -354.186800    6.363459   \n",
       "49997  -17.941987   -2.167623   11.336067   -2.542123  -98.327808  -13.690353   \n",
       "49998   12.387029   20.220357   -1.359887   83.958829 -314.127483   -2.550699   \n",
       "49999   -2.408064    6.790581  -12.917546   -5.899725  -24.414767  -37.180535   \n",
       "\n",
       "       feature 18  feature 19  feature 20  \n",
       "0       -9.684523   18.211899  -16.848424  \n",
       "1        6.529141   -4.577279   28.080530  \n",
       "2       -6.451438  -17.080408  -13.500953  \n",
       "3       -1.092364   28.453693   14.643806  \n",
       "4       12.798234    0.804627    1.271561  \n",
       "...           ...         ...         ...  \n",
       "49995    6.640099  -41.093484   -1.010290  \n",
       "49996    0.370644   35.952861    3.752642  \n",
       "49997   -4.299753   16.053032   14.812715  \n",
       "49998   -5.082801    7.514089   30.150485  \n",
       "49999   -2.134946   90.429367  -36.412232  \n",
       "\n",
       "[50000 rows x 21 columns]"
      ]
     },
     "execution_count": 9,
     "metadata": {},
     "output_type": "execute_result"
    }
   ],
   "source": [
    "df"
   ]
  },
  {
   "cell_type": "code",
   "execution_count": 10,
   "id": "afe19c03",
   "metadata": {},
   "outputs": [],
   "source": [
    "y=df['target']\n",
    "x=df.drop(['target'],axis=1)"
   ]
  },
  {
   "cell_type": "code",
   "execution_count": 11,
   "id": "4169b9b2",
   "metadata": {},
   "outputs": [],
   "source": [
    "x_train=x.to_numpy()\n",
    "y_train=y.to_numpy()\n",
    "x_train1,y_train1,x_train_cv,y_train_cv=train_test_split(normalize(x_train),y_train,0.2)\n"
   ]
  },
  {
   "cell_type": "code",
   "execution_count": 12,
   "id": "23a94c85",
   "metadata": {},
   "outputs": [
    {
     "name": "stdout",
     "output_type": "stream",
     "text": [
      "iter: 0 cost: 57791850.7029407\n",
      "iter: 100 cost: 249.22179567325986\n",
      "iter: 200 cost: 0.006166158731832719\n",
      "iter: 300 cost: 0.005030559447809279\n",
      "iter: 400 cost: 0.005030553999726256\n",
      "iter: 500 cost: 0.005030553999698068\n",
      "iter: 600 cost: 0.005030553999698978\n",
      "iter: 700 cost: 0.005030553999698663\n",
      "iter: 800 cost: 0.005030553999698841\n",
      "iter: 900 cost: 0.005030553999698663\n"
     ]
    }
   ],
   "source": [
    "w,b,cost=grad_desc(x_train1,y_train1,6e-2,1000,0)    #3.6e-5\n"
   ]
  },
  {
   "cell_type": "code",
   "execution_count": 14,
   "id": "833d92fc",
   "metadata": {},
   "outputs": [
    {
     "data": {
      "text/plain": [
       "Text(0, 0.5, 'cost (in 10^7)')"
      ]
     },
     "execution_count": 14,
     "metadata": {},
     "output_type": "execute_result"
    },
    {
     "data": {
      "image/png": "[encoded data removed]",
      "text/plain": [
       "<Figure size 640x480 with 1 Axes>"
      ]
     },
     "metadata": {},
     "output_type": "display_data"
    }
   ],
   "source": [
    "plt.plot(np.arange(1000),cost)\n",
    "plt.xlabel('iterations')\n",
    "plt.ylabel('cost (in 10^7)')"
   ]
  },
  {
   "cell_type": "code",
   "execution_count": 15,
   "id": "a62a09f2",
   "metadata": {},
   "outputs": [
    {
     "data": {
      "text/plain": [
       "0.9999999999230896"
      ]
     },
     "execution_count": 15,
     "metadata": {},
     "output_type": "execute_result"
    }
   ],
   "source": [
    "predi=pred(x_train1,w,b)\n",
    "calculate_r2_score(y_train1,predi)"
   ]
  },
  {
   "cell_type": "code",
   "execution_count": 16,
   "id": "1cd928a2",
   "metadata": {},
   "outputs": [
    {
     "data": {
      "text/plain": [
       "0.005135523847298542"
      ]
     },
     "execution_count": 16,
     "metadata": {},
     "output_type": "execute_result"
    }
   ],
   "source": [
    "compute_cost(x_train_cv,y_train_cv,w,b,0)"
   ]
  },
  {
   "cell_type": "code",
   "execution_count": 17,
   "id": "47280a1a",
   "metadata": {},
   "outputs": [
    {
     "data": {
      "text/plain": [
       "0.9999999999221756"
      ]
     },
     "execution_count": 17,
     "metadata": {},
     "output_type": "execute_result"
    }
   ],
   "source": [
    "predi=pred(x_train_cv,w,b)\n",
    "calculate_r2_score(y_train_cv,predi)"
   ]
  },
  {
   "cell_type": "code",
   "execution_count": 17,
   "id": "57072c57",
   "metadata": {},
   "outputs": [],
   "source": [
    "#testcsv=pd.read_csv('Lineardata_test.csv')\n",
    "#id=testcsv['ID']\n",
    "#x_test=testcsv.drop(['ID'],axis=1)\n",
    "#x_test=x_test.to_numpy()"
   ]
  },
  {
   "cell_type": "code",
   "execution_count": 18,
   "id": "8be79197",
   "metadata": {},
   "outputs": [],
   "source": [
    "#predi2=pred(x_test,w,b)"
   ]
  },
  {
   "cell_type": "code",
   "execution_count": 19,
   "id": "6d17d233",
   "metadata": {},
   "outputs": [],
   "source": [
    "#output=pd.DataFrame({'id':id,'output':predi2})"
   ]
  },
  {
   "cell_type": "code",
   "execution_count": 20,
   "id": "b7c8d635",
   "metadata": {},
   "outputs": [],
   "source": [
    "#output.to_csv('LinearData_output.csv')"
   ]
  },
  {
   "cell_type": "code",
   "execution_count": null,
   "id": "b44d2a29",
   "metadata": {},
   "outputs": [],
   "source": []
  }
 ],
 "metadata": {
  "kernelspec": {
   "display_name": "Python 3 (ipykernel)",
   "language": "python",
   "name": "python3"
  },
  "language_info": {
   "codemirror_mode": {
    "name": "ipython",
    "version": 3
   },
   "file_extension": ".py",
   "mimetype": "text/x-python",
   "name": "python",
   "nbconvert_exporter": "python",
   "pygments_lexer": "ipython3",
   "version": "3.11.5"
  }
 },
 "nbformat": 4,
 "nbformat_minor": 5
}
