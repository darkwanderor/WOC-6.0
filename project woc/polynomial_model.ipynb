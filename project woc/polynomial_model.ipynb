{
 "cells": [
  {
   "cell_type": "code",
   "execution_count": 25,
   "id": "10c2863e",
   "metadata": {},
   "outputs": [],
   "source": [
    "import numpy as np\n",
    "import pandas as pd\n",
    "import matplotlib.pyplot as plt"
   ]
  },
  {
   "cell_type": "code",
   "execution_count": 26,
   "id": "b8d0bfc6",
   "metadata": {},
   "outputs": [],
   "source": [
    "def norm(p):\n",
    "    a=np.zeros(len(p))\n",
    "    a=(p-p.mean())/(np.std(p)+1e-15)\n",
    "    return a\n",
    "\n",
    "def normalize(x):\n",
    "    m,n=x.shape\n",
    "    p=np.zeros(n)\n",
    "    x1=np.zeros((m,n))\n",
    "    for i in range(n):\n",
    "        p=x[:,i]\n",
    "        a=norm(p)\n",
    "        x1[:,i]=a\n",
    "    return x1"
   ]
  },
  {
   "cell_type": "code",
   "execution_count": 27,
   "id": "28015049",
   "metadata": {},
   "outputs": [],
   "source": [
    "def compute_cost(x,y,w,b,lambda_):\n",
    "    m,n=x.shape #m is examples,n is features\n",
    "    Y=np.dot(w,x.T)+b\n",
    "    a=(Y-y)**2/(2*m)\n",
    "    c=a.sum()+lambda_*((np.abs(w)).sum())/(2*m)\n",
    "    return c\n",
    "    "
   ]
  },
  {
   "cell_type": "code",
   "execution_count": 28,
   "id": "e08f3f99",
   "metadata": {},
   "outputs": [],
   "source": [
    "def cost_der(x,y,w,b,lambda_):\n",
    "    m,n=x.shape\n",
    "    dw=np.dot((np.dot(w,x.T)+b-y),x)/(m)+lambda_*(np.sign(w))/(m)\n",
    "    db=(np.dot(w,x.T)+b-y)/m\n",
    "    return dw,db.sum()"
   ]
  },
  {
   "cell_type": "code",
   "execution_count": 29,
   "id": "f2304b4f",
   "metadata": {},
   "outputs": [],
   "source": [
    "def grad_desc(x,y,alpha,iter,lambda_=100):\n",
    "    m,n=x.shape #m is examples,n is features\n",
    "    w_in=np.random.normal(loc=0, scale=0.000001, size=(n,))\n",
    "    b_in=np.random.normal(loc=0, scale=0.000001, size=(1,))\n",
    "    cost=[]\n",
    "    for i in range(iter):\n",
    "        dw,db=cost_der(x,y,w_in,b_in,lambda_)\n",
    "        w_in-=alpha*dw\n",
    "        b_in-=alpha*db\n",
    "        c=compute_cost(x,y,w_in,b_in,lambda_)\n",
    "        cost.append(c)\n",
    "        if i%(iter//10)==0:\n",
    "            print('iter:',i,'cost:    ',compute_cost(x,y,w_in,b_in,lambda_))\n",
    "    return w_in,b_in,cost"
   ]
  },
  {
   "cell_type": "code",
   "execution_count": 30,
   "id": "ab3c62f5",
   "metadata": {},
   "outputs": [],
   "source": [
    "def calculate_r2_score(y,prediction):\n",
    "    \n",
    "    mean_actual=np.mean(y)   \n",
    "    sst=np.sum((y-mean_actual)**2)   \n",
    "    ssr=np.sum((y-prediction)**2)\n",
    "    r2_score=1-(ssr/sst)\n",
    "    return r2_score\n",
    "def pred(x,w,b):\n",
    "    p=np.dot(w,x.T)+b\n",
    "    return p"
   ]
  },
  {
   "cell_type": "code",
   "execution_count": 31,
   "id": "664ad1c8",
   "metadata": {},
   "outputs": [],
   "source": [
    "def pol_feat(x,degree):\n",
    "    x1,x2,x3=x.T\n",
    "    n=(degree+3)*(degree+2)*(degree+1)//6 -1\n",
    "    m=0\n",
    "    a=np.zeros((n,len(x1)))\n",
    "    for i in range(degree+1):\n",
    "        for j in range(degree+1):\n",
    "            for k in range(degree+1):\n",
    "                if i+j+k<=degree and i+j+k!=0:\n",
    "                    a[m]=x1**i*x2**j*x3**k\n",
    "                    m+=1\n",
    "    return a.T "
   ]
  },
  {
   "cell_type": "code",
   "execution_count": 32,
   "id": "b309f3ac",
   "metadata": {},
   "outputs": [],
   "source": [
    "def train_test_split(x,y,test_size):\n",
    "    m,n=x.shape\n",
    "    indices=np.arange(m)\n",
    "    #print(m)\n",
    "    p=np.random.permutation(indices)\n",
    "    #print(p.shape)\n",
    "    x_test=x[p][:int(m*test_size)]\n",
    "    y_test=y[p][:int(m*test_size)]\n",
    "    x_train=x[p][int(m*test_size):]\n",
    "    #print(x[p].shape)\n",
    "    #print(x_train.shape)\n",
    "    y_train=y[p][int(m*test_size):]\n",
    "    #print(y_train.shape)\n",
    "    return x_train,y_train,x_test,y_test"
   ]
  },
  {
   "cell_type": "code",
   "execution_count": 33,
   "id": "81850b2e",
   "metadata": {},
   "outputs": [
    {
     "data": {
      "text/html": [
       "<div>\n",
       "<style scoped>\n",
       "    .dataframe tbody tr th:only-of-type {\n",
       "        vertical-align: middle;\n",
       "    }\n",
       "\n",
       "    .dataframe tbody tr th {\n",
       "        vertical-align: top;\n",
       "    }\n",
       "\n",
       "    .dataframe thead th {\n",
       "        text-align: right;\n",
       "    }\n",
       "</style>\n",
       "<table border=\"1\" class=\"dataframe\">\n",
       "  <thead>\n",
       "    <tr style=\"text-align: right;\">\n",
       "      <th></th>\n",
       "      <th>target</th>\n",
       "      <th>feature 1</th>\n",
       "      <th>feature 2</th>\n",
       "      <th>feature 3</th>\n",
       "    </tr>\n",
       "  </thead>\n",
       "  <tbody>\n",
       "    <tr>\n",
       "      <th>0</th>\n",
       "      <td>4.131528e+06</td>\n",
       "      <td>5.221849</td>\n",
       "      <td>7.295111</td>\n",
       "      <td>95.716846</td>\n",
       "    </tr>\n",
       "    <tr>\n",
       "      <th>1</th>\n",
       "      <td>3.172975e-01</td>\n",
       "      <td>-5.106284</td>\n",
       "      <td>4.220085</td>\n",
       "      <td>-6.172360</td>\n",
       "    </tr>\n",
       "    <tr>\n",
       "      <th>2</th>\n",
       "      <td>4.676422e+04</td>\n",
       "      <td>-4.218053</td>\n",
       "      <td>-7.573823</td>\n",
       "      <td>-39.493884</td>\n",
       "    </tr>\n",
       "    <tr>\n",
       "      <th>3</th>\n",
       "      <td>1.404175e+05</td>\n",
       "      <td>-18.439122</td>\n",
       "      <td>-2.275148</td>\n",
       "      <td>-40.885857</td>\n",
       "    </tr>\n",
       "    <tr>\n",
       "      <th>4</th>\n",
       "      <td>4.788988e+03</td>\n",
       "      <td>13.353046</td>\n",
       "      <td>3.103837</td>\n",
       "      <td>18.622367</td>\n",
       "    </tr>\n",
       "    <tr>\n",
       "      <th>...</th>\n",
       "      <td>...</td>\n",
       "      <td>...</td>\n",
       "      <td>...</td>\n",
       "      <td>...</td>\n",
       "    </tr>\n",
       "    <tr>\n",
       "      <th>49995</th>\n",
       "      <td>1.853922e+04</td>\n",
       "      <td>-25.309264</td>\n",
       "      <td>-6.094516</td>\n",
       "      <td>75.361431</td>\n",
       "    </tr>\n",
       "    <tr>\n",
       "      <th>49996</th>\n",
       "      <td>6.379917e+03</td>\n",
       "      <td>-58.016982</td>\n",
       "      <td>-6.064214</td>\n",
       "      <td>27.146387</td>\n",
       "    </tr>\n",
       "    <tr>\n",
       "      <th>49997</th>\n",
       "      <td>3.835601e+06</td>\n",
       "      <td>29.857894</td>\n",
       "      <td>1.422973</td>\n",
       "      <td>75.620505</td>\n",
       "    </tr>\n",
       "    <tr>\n",
       "      <th>49998</th>\n",
       "      <td>2.580318e+04</td>\n",
       "      <td>10.793146</td>\n",
       "      <td>1.215972</td>\n",
       "      <td>34.437761</td>\n",
       "    </tr>\n",
       "    <tr>\n",
       "      <th>49999</th>\n",
       "      <td>3.468171e+05</td>\n",
       "      <td>12.171702</td>\n",
       "      <td>-0.798756</td>\n",
       "      <td>60.245990</td>\n",
       "    </tr>\n",
       "  </tbody>\n",
       "</table>\n",
       "<p>50000 rows × 4 columns</p>\n",
       "</div>"
      ],
      "text/plain": [
       "             target  feature 1  feature 2  feature 3\n",
       "0      4.131528e+06   5.221849   7.295111  95.716846\n",
       "1      3.172975e-01  -5.106284   4.220085  -6.172360\n",
       "2      4.676422e+04  -4.218053  -7.573823 -39.493884\n",
       "3      1.404175e+05 -18.439122  -2.275148 -40.885857\n",
       "4      4.788988e+03  13.353046   3.103837  18.622367\n",
       "...             ...        ...        ...        ...\n",
       "49995  1.853922e+04 -25.309264  -6.094516  75.361431\n",
       "49996  6.379917e+03 -58.016982  -6.064214  27.146387\n",
       "49997  3.835601e+06  29.857894   1.422973  75.620505\n",
       "49998  2.580318e+04  10.793146   1.215972  34.437761\n",
       "49999  3.468171e+05  12.171702  -0.798756  60.245990\n",
       "\n",
       "[50000 rows x 4 columns]"
      ]
     },
     "execution_count": 33,
     "metadata": {},
     "output_type": "execute_result"
    }
   ],
   "source": [
    "df=pd.read_csv('Polynomialdata_train.csv')\n",
    "df"
   ]
  },
  {
   "cell_type": "code",
   "execution_count": 34,
   "id": "afe19c03",
   "metadata": {},
   "outputs": [],
   "source": [
    "y=df['target']\n",
    "x=df.drop(['target'],axis=1)\n",
    "x_train=x.to_numpy()\n",
    "y_train=y.to_numpy()\n"
   ]
  },
  {
   "cell_type": "code",
   "execution_count": 35,
   "id": "abc2dd12",
   "metadata": {},
   "outputs": [],
   "source": [
    "x=normalize(pol_feat(x_train,6))\n",
    "x_train1,y_train1,x_train_cv,y_train_cv=train_test_split(x,y_train,0.2)"
   ]
  },
  {
   "cell_type": "code",
   "execution_count": 36,
   "id": "e143da43",
   "metadata": {},
   "outputs": [],
   "source": [
    "#ab=(pol_feat(x_train1,6))\n",
    "#ac=(pol_feat(x_train_cv,6))\n"
   ]
  },
  {
   "cell_type": "code",
   "execution_count": 37,
   "id": "23a94c85",
   "metadata": {},
   "outputs": [
    {
     "name": "stdout",
     "output_type": "stream",
     "text": [
      "iter: 0 cost:     20760669828265.29\n",
      "iter: 1000 cost:     194620834.9537679\n",
      "iter: 2000 cost:     394082.8821552454\n",
      "iter: 3000 cost:     1683.856630320881\n",
      "iter: 4000 cost:     13.670565482440146\n",
      "iter: 5000 cost:     0.13509292215690621\n",
      "iter: 6000 cost:     0.0013907003551332806\n",
      "iter: 7000 cost:     1.4465324833764179e-05\n",
      "iter: 8000 cost:     1.5102971894200128e-07\n",
      "iter: 9000 cost:     1.5796050696983924e-09\n"
     ]
    }
   ],
   "source": [
    "w,b,cost=grad_desc(x_train1,y_train1,2.8e-1,10000,0)"
   ]
  },
  {
   "cell_type": "code",
   "execution_count": 38,
   "id": "a62a09f2",
   "metadata": {},
   "outputs": [
    {
     "data": {
      "text/plain": [
       "1.0"
      ]
     },
     "execution_count": 38,
     "metadata": {},
     "output_type": "execute_result"
    }
   ],
   "source": [
    "predi=pred(x_train1,w,b) #train\n",
    "calculate_r2_score(y_train1,predi)"
   ]
  },
  {
   "cell_type": "code",
   "execution_count": 39,
   "id": "aed9b777",
   "metadata": {},
   "outputs": [
    {
     "data": {
      "text/plain": [
       "1.0"
      ]
     },
     "execution_count": 39,
     "metadata": {},
     "output_type": "execute_result"
    }
   ],
   "source": [
    "predi1=pred(x_train_cv,w,b) #cv\n",
    "calculate_r2_score(y_train_cv,predi1)"
   ]
  },
  {
   "cell_type": "code",
   "execution_count": 46,
   "id": "52484cbd",
   "metadata": {},
   "outputs": [
    {
     "data": {
      "text/plain": [
       "<matplotlib.collections.PathCollection at 0x1ae40a063d0>"
      ]
     },
     "execution_count": 46,
     "metadata": {},
     "output_type": "execute_result"
    },
    {
     "data": {
      "image/png": "[encoded data removed]",
      "text/plain": [
       "<Figure size 640x480 with 1 Axes>"
      ]
     },
     "metadata": {},
     "output_type": "display_data"
    }
   ],
   "source": [
    "plt.scatter(x_train[:,2],y_train)\n",
    "plt.ylabel('y train')\n",
    "plt.xlabel('x train ')\n",
    "plt.scatter(x_train[:,1],y_train)\n",
    "plt.scatter(x_train[:,0],y_train)\n"
   ]
  },
  {
   "cell_type": "code",
   "execution_count": 41,
   "id": "6caa4adf",
   "metadata": {},
   "outputs": [
    {
     "data": {
      "text/plain": [
       "Text(0, 0.5, 'cost')"
      ]
     },
     "execution_count": 41,
     "metadata": {},
     "output_type": "execute_result"
    },
    {
     "data": {
      "image/png": "[encoded data removed]",
      "text/plain": [
       "<Figure size 640x480 with 1 Axes>"
      ]
     },
     "metadata": {},
     "output_type": "display_data"
    }
   ],
   "source": [
    "plt.plot(np.arange(10000),cost)\n",
    "plt.xlabel('no. of iterations')\n",
    "plt.ylabel('cost')"
   ]
  },
  {
   "cell_type": "code",
   "execution_count": 47,
   "id": "65f2e910",
   "metadata": {},
   "outputs": [
    {
     "data": {
      "text/html": [
       "<div>\n",
       "<style scoped>\n",
       "    .dataframe tbody tr th:only-of-type {\n",
       "        vertical-align: middle;\n",
       "    }\n",
       "\n",
       "    .dataframe tbody tr th {\n",
       "        vertical-align: top;\n",
       "    }\n",
       "\n",
       "    .dataframe thead th {\n",
       "        text-align: right;\n",
       "    }\n",
       "</style>\n",
       "<table border=\"1\" class=\"dataframe\">\n",
       "  <thead>\n",
       "    <tr style=\"text-align: right;\">\n",
       "      <th></th>\n",
       "      <th>ID</th>\n",
       "      <th>feature 1</th>\n",
       "      <th>feature 2</th>\n",
       "      <th>feature 3</th>\n",
       "    </tr>\n",
       "  </thead>\n",
       "  <tbody>\n",
       "    <tr>\n",
       "      <th>0</th>\n",
       "      <td>16588</td>\n",
       "      <td>36.247643</td>\n",
       "      <td>-2.372704</td>\n",
       "      <td>43.835947</td>\n",
       "    </tr>\n",
       "    <tr>\n",
       "      <th>1</th>\n",
       "      <td>17513</td>\n",
       "      <td>5.903779</td>\n",
       "      <td>5.460086</td>\n",
       "      <td>-96.149414</td>\n",
       "    </tr>\n",
       "    <tr>\n",
       "      <th>2</th>\n",
       "      <td>14448</td>\n",
       "      <td>-37.298157</td>\n",
       "      <td>6.869786</td>\n",
       "      <td>-14.084487</td>\n",
       "    </tr>\n",
       "    <tr>\n",
       "      <th>3</th>\n",
       "      <td>13972</td>\n",
       "      <td>-40.080077</td>\n",
       "      <td>2.395066</td>\n",
       "      <td>-43.432941</td>\n",
       "    </tr>\n",
       "    <tr>\n",
       "      <th>4</th>\n",
       "      <td>18321</td>\n",
       "      <td>-20.417799</td>\n",
       "      <td>-2.194459</td>\n",
       "      <td>5.737226</td>\n",
       "    </tr>\n",
       "    <tr>\n",
       "      <th>...</th>\n",
       "      <td>...</td>\n",
       "      <td>...</td>\n",
       "      <td>...</td>\n",
       "      <td>...</td>\n",
       "    </tr>\n",
       "    <tr>\n",
       "      <th>9995</th>\n",
       "      <td>19691</td>\n",
       "      <td>-13.571554</td>\n",
       "      <td>2.931176</td>\n",
       "      <td>76.902716</td>\n",
       "    </tr>\n",
       "    <tr>\n",
       "      <th>9996</th>\n",
       "      <td>10512</td>\n",
       "      <td>-2.015904</td>\n",
       "      <td>-2.827700</td>\n",
       "      <td>4.999604</td>\n",
       "    </tr>\n",
       "    <tr>\n",
       "      <th>9997</th>\n",
       "      <td>17741</td>\n",
       "      <td>47.095192</td>\n",
       "      <td>-1.977461</td>\n",
       "      <td>39.044902</td>\n",
       "    </tr>\n",
       "    <tr>\n",
       "      <th>9998</th>\n",
       "      <td>18381</td>\n",
       "      <td>-1.808178</td>\n",
       "      <td>-0.693782</td>\n",
       "      <td>57.918628</td>\n",
       "    </tr>\n",
       "    <tr>\n",
       "      <th>9999</th>\n",
       "      <td>12054</td>\n",
       "      <td>19.958034</td>\n",
       "      <td>2.294516</td>\n",
       "      <td>-16.082546</td>\n",
       "    </tr>\n",
       "  </tbody>\n",
       "</table>\n",
       "<p>10000 rows × 4 columns</p>\n",
       "</div>"
      ],
      "text/plain": [
       "         ID  feature 1  feature 2  feature 3\n",
       "0     16588  36.247643  -2.372704  43.835947\n",
       "1     17513   5.903779   5.460086 -96.149414\n",
       "2     14448 -37.298157   6.869786 -14.084487\n",
       "3     13972 -40.080077   2.395066 -43.432941\n",
       "4     18321 -20.417799  -2.194459   5.737226\n",
       "...     ...        ...        ...        ...\n",
       "9995  19691 -13.571554   2.931176  76.902716\n",
       "9996  10512  -2.015904  -2.827700   4.999604\n",
       "9997  17741  47.095192  -1.977461  39.044902\n",
       "9998  18381  -1.808178  -0.693782  57.918628\n",
       "9999  12054  19.958034   2.294516 -16.082546\n",
       "\n",
       "[10000 rows x 4 columns]"
      ]
     },
     "execution_count": 47,
     "metadata": {},
     "output_type": "execute_result"
    }
   ],
   "source": [
    "test=pd.read_csv('Polynomialdata_test.csv')\n",
    "test"
   ]
  },
  {
   "cell_type": "code",
   "execution_count": 48,
   "id": "d22c62b3",
   "metadata": {},
   "outputs": [
    {
     "data": {
      "text/plain": [
       "(10000, 3)"
      ]
     },
     "execution_count": 48,
     "metadata": {},
     "output_type": "execute_result"
    }
   ],
   "source": [
    "testx=test.drop(['ID'],axis=1)\n",
    "id=test['ID']\n",
    "testx=testx.to_numpy()\n",
    "testx.shape"
   ]
  },
  {
   "cell_type": "code",
   "execution_count": 49,
   "id": "4f7f67fd",
   "metadata": {},
   "outputs": [],
   "source": [
    "testx_pol=pol_feat(testx,6)\n",
    "pred_test=pred(testx_pol,w,b)"
   ]
  },
  {
   "cell_type": "code",
   "execution_count": 50,
   "id": "acd3d17d",
   "metadata": {},
   "outputs": [],
   "source": [
    "output=pd.DataFrame({'ID':id,'output':pred_test})"
   ]
  },
  {
   "cell_type": "code",
   "execution_count": 51,
   "id": "a9e98777",
   "metadata": {},
   "outputs": [],
   "source": [
    "output.to_csv('polynomial_output.csv')"
   ]
  },
  {
   "cell_type": "code",
   "execution_count": 52,
   "id": "63c7f22b",
   "metadata": {},
   "outputs": [
    {
     "data": {
      "text/plain": [
       "Text(0, 0.5, 'prediction')"
      ]
     },
     "execution_count": 52,
     "metadata": {},
     "output_type": "execute_result"
    },
    {
     "data": {
      "image/png": "[encoded data removed]",
      "text/plain": [
       "<Figure size 640x480 with 1 Axes>"
      ]
     },
     "metadata": {},
     "output_type": "display_data"
    }
   ],
   "source": [
    "plt.plot(y_train_cv,predi1)\n",
    "plt.xlabel('y cross validation')\n",
    "plt.ylabel('prediction')"
   ]
  },
  {
   "cell_type": "code",
   "execution_count": null,
   "id": "5a449d13",
   "metadata": {},
   "outputs": [],
   "source": []
  }
 ],
 "metadata": {
  "kernelspec": {
   "display_name": "Python 3 (ipykernel)",
   "language": "python",
   "name": "python3"
  },
  "language_info": {
   "codemirror_mode": {
    "name": "ipython",
    "version": 3
   },
   "file_extension": ".py",
   "mimetype": "text/x-python",
   "name": "python",
   "nbconvert_exporter": "python",
   "pygments_lexer": "ipython3",
   "version": "3.11.5"
  }
 },
 "nbformat": 4,
 "nbformat_minor": 5
}
