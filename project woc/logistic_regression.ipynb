{
 "cells": [
  {
   "cell_type": "code",
   "execution_count": 1,
   "id": "dc961264",
   "metadata": {},
   "outputs": [],
   "source": [
    "import numpy as np\n",
    "import pandas as pd\n",
    "import matplotlib.pyplot as plt"
   ]
  },
  {
   "cell_type": "code",
   "execution_count": 2,
   "id": "380d33e3",
   "metadata": {},
   "outputs": [],
   "source": [
    "def one_hot(y):\n",
    "    one_hot_y = np.zeros((y.size, int(y.max()) + 1))\n",
    "    one_hot_y[np.arange(y.size), y.astype(int)] = 1 \n",
    "    return one_hot_y.T\n",
    "def sigmoid(z):\n",
    "    l=1/(1+np.exp(-z))\n",
    "    return l\n",
    "def init_params(x,y):\n",
    "    u=np.unique(y)\n",
    "    np.random.seed(42)\n",
    "    w=np.random.randn(len(u),len(x[0]))\n",
    "    np.random.seed(42)\n",
    "    b=np.random.randn(len(u),1)\n",
    "    return w,b\n",
    "def sigmoid_der(z):\n",
    "    return z*(1-z)\n",
    "def train_test_split(x,y,test_size):\n",
    "    m,n=x.shape\n",
    "    indices=np.arange(m)\n",
    "   # np.random.seed(42)\n",
    "    p=np.random.permutation(indices)\n",
    "    x_test=x[p][:int(m*test_size)]\n",
    "    y_test=y[p][:int(m*test_size)]\n",
    "    x_train=x[p][int(m*test_size):]\n",
    "    y_train=y[p][int(m*test_size):]\n",
    "    return x_train,y_train,x_test,y_test"
   ]
  },
  {
   "cell_type": "code",
   "execution_count": 3,
   "id": "67c8e8b2",
   "metadata": {},
   "outputs": [],
   "source": [
    "class logisticregression:\n",
    "    def _init_(self,lr=None,epoch=None):\n",
    "        self.lr=lr\n",
    "        self.iter=epoch\n",
    "    def fit(self,x,y):\n",
    "        self.x=x\n",
    "        self.y1=y\n",
    "        self.y=one_hot(y)\n",
    "        \n",
    "    def cost(self,x,y,w,b):\n",
    "        m,n=y.shape\n",
    "        a=sigmoid(np.dot(w,x.T)+b)\n",
    "        c=((a-y)**2)/(2*n)\n",
    "        return c.sum()\n",
    "    def grad(self,x,y,w,b):\n",
    "        m,n=x.shape\n",
    "        a=sigmoid(np.dot(w,x.T)+b)\n",
    "        dc_dz=a-y\n",
    "        dc_dw=np.dot(dc_dz,x)/m\n",
    "        dc_db=(dc_dz).sum(1)/m\n",
    "        return dc_dw,dc_db.reshape(-1,1)\n",
    "    def grad_desc(self,batch):\n",
    "        m,n=self.y.shape\n",
    "        self.w,self.b=init_params(self.x,self.y1)\n",
    "        c=n//batch\n",
    "        #cost=[]\n",
    "        for i in range(self.iter):\n",
    "            for j in range(c):\n",
    "                x=self.x[j::c]\n",
    "                y=self.y[:,j::c]\n",
    "                dw,db=model.grad(x,y,self.w,self.b)\n",
    "                self.w-=self.lr*dw\n",
    "                self.b-=self.lr*db\n",
    "                #cp=model.cost(x,y,self.w,self.b)\n",
    "                #cost.append(cp)\n",
    "                if i%(self.iter//10)==0 and j==0:\n",
    "                    print(\"epoch\",i,\"cost\",model.cost(x,y,self.w,self.b))\n",
    "                #self.costgraph=cost\n",
    "    def predict(self,x_test):\n",
    "        a=sigmoid(np.dot(self.w,x_test.T)+b)\n",
    "        c=a.argmax(axis=0)\n",
    "        self.pred=c\n",
    "        return c\n",
    "    def accuracy(self,y):\n",
    "        return np.mean(self.pred==y)\n",
    "    "
   ]
  },
  {
   "cell_type": "code",
   "execution_count": 4,
   "id": "21b1cf47",
   "metadata": {},
   "outputs": [],
   "source": [
    "df=pd.read_csv('Classification_train.csv')\n",
    "y_train=df['label']\n",
    "y_train=y_train.to_numpy()\n",
    "x_train=df.drop(['label'],axis=1)\n",
    "x_train=x_train.to_numpy()"
   ]
  },
  {
   "cell_type": "code",
   "execution_count": 5,
   "id": "2aecc6c1",
   "metadata": {},
   "outputs": [],
   "source": [
    "unique_values, unique_indices = np.unique(y_train[:50], return_index=True)"
   ]
  },
  {
   "cell_type": "code",
   "execution_count": 6,
   "id": "0a485eb6",
   "metadata": {},
   "outputs": [
    {
     "data": {
      "image/png": "[encoded data removed]",
      "text/plain": [
       "<Figure size 1000x400 with 10 Axes>"
      ]
     },
     "metadata": {},
     "output_type": "display_data"
    }
   ],
   "source": [
    "fig, axes = plt.subplots(nrows=2, ncols=5, figsize=(10, 4))\n",
    "axes = axes.flatten()\n",
    "m=0\n",
    "for i in unique_indices:\n",
    "    axes[m].imshow(x_train[i].reshape(28,28))  \n",
    "    axes[m].set_title(f\"{m}\")\n",
    "    axes[m].axis('off')\n",
    "    m+=1\n",
    "\n",
    "plt.tight_layout()\n",
    "plt.show()"
   ]
  },
  {
   "cell_type": "code",
   "execution_count": 7,
   "id": "23312e7f",
   "metadata": {},
   "outputs": [],
   "source": [
    "x_train1,y_train1,x_cv,y_cv=train_test_split(x_train/255,y_train,0.1)"
   ]
  },
  {
   "cell_type": "code",
   "execution_count": 8,
   "id": "83192384",
   "metadata": {},
   "outputs": [],
   "source": [
    "model=logisticregression()"
   ]
  },
  {
   "cell_type": "code",
   "execution_count": 9,
   "id": "b3c8f12e",
   "metadata": {},
   "outputs": [],
   "source": [
    "model.lr=3.2 \n",
    "model.iter=100"
   ]
  },
  {
   "cell_type": "code",
   "execution_count": 10,
   "id": "b079f572",
   "metadata": {},
   "outputs": [],
   "source": [
    "model.fit(x_train1,y_train1)"
   ]
  },
  {
   "cell_type": "code",
   "execution_count": 11,
   "id": "bed302fe",
   "metadata": {},
   "outputs": [
    {
     "name": "stdout",
     "output_type": "stream",
     "text": [
      "epoch 0 cost 0.513387370290519\n",
      "epoch 10 cost 0.02648881257247169\n",
      "epoch 20 cost 0.025185766118436176\n",
      "epoch 30 cost 0.024847501000031982\n",
      "epoch 40 cost 0.02450406193661746\n",
      "epoch 50 cost 0.02412542204004416\n",
      "epoch 60 cost 0.023724826960453485\n",
      "epoch 70 cost 0.02332583326275365\n",
      "epoch 80 cost 0.02294760239271608\n",
      "epoch 90 cost 0.022600977566049542\n"
     ]
    }
   ],
   "source": [
    "model.grad_desc(128)"
   ]
  },
  {
   "cell_type": "code",
   "execution_count": 12,
   "id": "cd6a6035",
   "metadata": {},
   "outputs": [],
   "source": [
    "p=sigmoid(np.dot(model.w,x_train1.T)+model.b)\n",
    "predi=np.argmax(p,axis=0)"
   ]
  },
  {
   "cell_type": "code",
   "execution_count": 13,
   "id": "1a689c52",
   "metadata": {},
   "outputs": [
    {
     "data": {
      "text/plain": [
       "(array([9, 5, 5, ..., 6, 9, 3], dtype=int64),\n",
       " array([9, 5, 5, ..., 6, 9, 3], dtype=int64))"
      ]
     },
     "execution_count": 13,
     "metadata": {},
     "output_type": "execute_result"
    }
   ],
   "source": [
    "predi,y_train1"
   ]
  },
  {
   "cell_type": "code",
   "execution_count": 14,
   "id": "67b5df3e",
   "metadata": {},
   "outputs": [
    {
     "data": {
      "text/plain": [
       "0.9817037037037037"
      ]
     },
     "execution_count": 14,
     "metadata": {},
     "output_type": "execute_result"
    }
   ],
   "source": [
    "np.mean(y_train1==predi)"
   ]
  },
  {
   "cell_type": "code",
   "execution_count": 15,
   "id": "cfb67836",
   "metadata": {},
   "outputs": [],
   "source": [
    "q=sigmoid(np.dot(model.w,x_cv.T)+model.b)\n",
    "predi1=np.argmax(q,axis=0)"
   ]
  },
  {
   "cell_type": "code",
   "execution_count": 16,
   "id": "fb1e2bc3",
   "metadata": {},
   "outputs": [
    {
     "data": {
      "text/plain": [
       "0.966"
      ]
     },
     "execution_count": 16,
     "metadata": {},
     "output_type": "execute_result"
    }
   ],
   "source": [
    "np.mean(y_cv==predi1)"
   ]
  },
  {
   "cell_type": "code",
   "execution_count": 17,
   "id": "698cdfd2",
   "metadata": {},
   "outputs": [
    {
     "data": {
      "text/plain": [
       "(array([0, 4, 2, 5, 8, 0, 6, 2, 5, 5, 2, 8, 6, 7, 4, 4, 8, 8, 1, 0, 9, 5,\n",
       "        4, 0, 5, 5, 0, 9, 5, 3, 6, 6, 2, 5, 8, 1, 1, 0, 8, 9, 9, 8, 1, 3,\n",
       "        6, 3, 1, 6, 6, 4, 5, 0, 0, 2, 0, 7, 5, 1, 4, 0, 3, 5, 3, 4, 6, 8,\n",
       "        6, 4, 3, 6, 0, 3, 4, 4, 0, 1, 4, 1, 8, 4, 9, 9, 9, 9, 5, 7, 3, 0,\n",
       "        3, 0, 8, 0, 0, 6, 3, 1, 4, 6, 7, 0], dtype=int64),\n",
       " array([0, 4, 2, 5, 8, 0, 6, 2, 5, 5, 2, 8, 6, 3, 4, 4, 8, 8, 1, 0, 9, 5,\n",
       "        4, 0, 5, 5, 0, 9, 5, 3, 6, 6, 2, 4, 8, 1, 1, 0, 8, 9, 9, 8, 1, 7,\n",
       "        6, 3, 1, 6, 6, 4, 5, 0, 0, 2, 0, 7, 5, 1, 4, 0, 3, 4, 3, 4, 6, 8,\n",
       "        6, 4, 3, 6, 0, 0, 4, 4, 0, 1, 4, 1, 8, 4, 9, 9, 9, 9, 5, 7, 3, 0,\n",
       "        3, 0, 8, 0, 0, 6, 3, 1, 4, 6, 7, 0], dtype=int64))"
      ]
     },
     "execution_count": 17,
     "metadata": {},
     "output_type": "execute_result"
    }
   ],
   "source": [
    "y_cv[:100],predi1[:100]"
   ]
  },
  {
   "cell_type": "code",
   "execution_count": 18,
   "id": "679b00cf",
   "metadata": {},
   "outputs": [
    {
     "ename": "AttributeError",
     "evalue": "'logisticregression' object has no attribute 'costgraph'",
     "output_type": "error",
     "traceback": [
      "\u001b[1;31m---------------------------------------------------------------------------\u001b[0m",
      "\u001b[1;31mAttributeError\u001b[0m                            Traceback (most recent call last)",
      "Cell \u001b[1;32mIn[18], line 1\u001b[0m\n\u001b[1;32m----> 1\u001b[0m plt\u001b[38;5;241m.\u001b[39mplot(np\u001b[38;5;241m.\u001b[39marange(\u001b[38;5;241m100\u001b[39m),model\u001b[38;5;241m.\u001b[39mcostgraph[::\u001b[38;5;241m210\u001b[39m])\n",
      "\u001b[1;31mAttributeError\u001b[0m: 'logisticregression' object has no attribute 'costgraph'"
     ]
    }
   ],
   "source": [
    "plt.plot(np.arange(100),model.costgraph[::210])"
   ]
  },
  {
   "cell_type": "code",
   "execution_count": 69,
   "id": "815c9ad0",
   "metadata": {},
   "outputs": [
    {
     "data": {
      "text/html": [
       "<div>\n",
       "<style scoped>\n",
       "    .dataframe tbody tr th:only-of-type {\n",
       "        vertical-align: middle;\n",
       "    }\n",
       "\n",
       "    .dataframe tbody tr th {\n",
       "        vertical-align: top;\n",
       "    }\n",
       "\n",
       "    .dataframe thead th {\n",
       "        text-align: right;\n",
       "    }\n",
       "</style>\n",
       "<table border=\"1\" class=\"dataframe\">\n",
       "  <thead>\n",
       "    <tr style=\"text-align: right;\">\n",
       "      <th></th>\n",
       "      <th>ID</th>\n",
       "      <th>pixel0</th>\n",
       "      <th>pixel1</th>\n",
       "      <th>pixel2</th>\n",
       "      <th>pixel3</th>\n",
       "      <th>pixel4</th>\n",
       "      <th>pixel5</th>\n",
       "      <th>pixel6</th>\n",
       "      <th>pixel7</th>\n",
       "      <th>pixel8</th>\n",
       "      <th>...</th>\n",
       "      <th>pixel774</th>\n",
       "      <th>pixel775</th>\n",
       "      <th>pixel776</th>\n",
       "      <th>pixel777</th>\n",
       "      <th>pixel778</th>\n",
       "      <th>pixel779</th>\n",
       "      <th>pixel780</th>\n",
       "      <th>pixel781</th>\n",
       "      <th>pixel782</th>\n",
       "      <th>pixel783</th>\n",
       "    </tr>\n",
       "  </thead>\n",
       "  <tbody>\n",
       "    <tr>\n",
       "      <th>0</th>\n",
       "      <td>15795</td>\n",
       "      <td>0</td>\n",
       "      <td>0</td>\n",
       "      <td>0</td>\n",
       "      <td>0</td>\n",
       "      <td>0</td>\n",
       "      <td>0</td>\n",
       "      <td>0</td>\n",
       "      <td>0</td>\n",
       "      <td>0</td>\n",
       "      <td>...</td>\n",
       "      <td>0</td>\n",
       "      <td>0</td>\n",
       "      <td>0</td>\n",
       "      <td>0</td>\n",
       "      <td>0</td>\n",
       "      <td>0</td>\n",
       "      <td>0</td>\n",
       "      <td>0</td>\n",
       "      <td>0</td>\n",
       "      <td>0</td>\n",
       "    </tr>\n",
       "    <tr>\n",
       "      <th>1</th>\n",
       "      <td>860</td>\n",
       "      <td>0</td>\n",
       "      <td>0</td>\n",
       "      <td>0</td>\n",
       "      <td>0</td>\n",
       "      <td>0</td>\n",
       "      <td>0</td>\n",
       "      <td>0</td>\n",
       "      <td>0</td>\n",
       "      <td>0</td>\n",
       "      <td>...</td>\n",
       "      <td>0</td>\n",
       "      <td>0</td>\n",
       "      <td>0</td>\n",
       "      <td>0</td>\n",
       "      <td>0</td>\n",
       "      <td>0</td>\n",
       "      <td>0</td>\n",
       "      <td>0</td>\n",
       "      <td>0</td>\n",
       "      <td>0</td>\n",
       "    </tr>\n",
       "    <tr>\n",
       "      <th>2</th>\n",
       "      <td>5390</td>\n",
       "      <td>0</td>\n",
       "      <td>0</td>\n",
       "      <td>0</td>\n",
       "      <td>0</td>\n",
       "      <td>0</td>\n",
       "      <td>0</td>\n",
       "      <td>0</td>\n",
       "      <td>0</td>\n",
       "      <td>0</td>\n",
       "      <td>...</td>\n",
       "      <td>0</td>\n",
       "      <td>0</td>\n",
       "      <td>0</td>\n",
       "      <td>0</td>\n",
       "      <td>0</td>\n",
       "      <td>0</td>\n",
       "      <td>0</td>\n",
       "      <td>0</td>\n",
       "      <td>0</td>\n",
       "      <td>0</td>\n",
       "    </tr>\n",
       "    <tr>\n",
       "      <th>3</th>\n",
       "      <td>11964</td>\n",
       "      <td>0</td>\n",
       "      <td>0</td>\n",
       "      <td>0</td>\n",
       "      <td>0</td>\n",
       "      <td>0</td>\n",
       "      <td>0</td>\n",
       "      <td>0</td>\n",
       "      <td>0</td>\n",
       "      <td>0</td>\n",
       "      <td>...</td>\n",
       "      <td>0</td>\n",
       "      <td>0</td>\n",
       "      <td>0</td>\n",
       "      <td>0</td>\n",
       "      <td>0</td>\n",
       "      <td>0</td>\n",
       "      <td>0</td>\n",
       "      <td>0</td>\n",
       "      <td>0</td>\n",
       "      <td>0</td>\n",
       "    </tr>\n",
       "    <tr>\n",
       "      <th>4</th>\n",
       "      <td>11284</td>\n",
       "      <td>0</td>\n",
       "      <td>0</td>\n",
       "      <td>0</td>\n",
       "      <td>0</td>\n",
       "      <td>0</td>\n",
       "      <td>0</td>\n",
       "      <td>0</td>\n",
       "      <td>0</td>\n",
       "      <td>0</td>\n",
       "      <td>...</td>\n",
       "      <td>0</td>\n",
       "      <td>0</td>\n",
       "      <td>0</td>\n",
       "      <td>0</td>\n",
       "      <td>0</td>\n",
       "      <td>0</td>\n",
       "      <td>0</td>\n",
       "      <td>0</td>\n",
       "      <td>0</td>\n",
       "      <td>0</td>\n",
       "    </tr>\n",
       "    <tr>\n",
       "      <th>...</th>\n",
       "      <td>...</td>\n",
       "      <td>...</td>\n",
       "      <td>...</td>\n",
       "      <td>...</td>\n",
       "      <td>...</td>\n",
       "      <td>...</td>\n",
       "      <td>...</td>\n",
       "      <td>...</td>\n",
       "      <td>...</td>\n",
       "      <td>...</td>\n",
       "      <td>...</td>\n",
       "      <td>...</td>\n",
       "      <td>...</td>\n",
       "      <td>...</td>\n",
       "      <td>...</td>\n",
       "      <td>...</td>\n",
       "      <td>...</td>\n",
       "      <td>...</td>\n",
       "      <td>...</td>\n",
       "      <td>...</td>\n",
       "      <td>...</td>\n",
       "    </tr>\n",
       "    <tr>\n",
       "      <th>9995</th>\n",
       "      <td>11260</td>\n",
       "      <td>0</td>\n",
       "      <td>0</td>\n",
       "      <td>0</td>\n",
       "      <td>0</td>\n",
       "      <td>0</td>\n",
       "      <td>0</td>\n",
       "      <td>0</td>\n",
       "      <td>0</td>\n",
       "      <td>0</td>\n",
       "      <td>...</td>\n",
       "      <td>0</td>\n",
       "      <td>0</td>\n",
       "      <td>0</td>\n",
       "      <td>0</td>\n",
       "      <td>0</td>\n",
       "      <td>0</td>\n",
       "      <td>0</td>\n",
       "      <td>0</td>\n",
       "      <td>0</td>\n",
       "      <td>0</td>\n",
       "    </tr>\n",
       "    <tr>\n",
       "      <th>9996</th>\n",
       "      <td>18563</td>\n",
       "      <td>0</td>\n",
       "      <td>0</td>\n",
       "      <td>0</td>\n",
       "      <td>0</td>\n",
       "      <td>0</td>\n",
       "      <td>0</td>\n",
       "      <td>0</td>\n",
       "      <td>0</td>\n",
       "      <td>0</td>\n",
       "      <td>...</td>\n",
       "      <td>0</td>\n",
       "      <td>0</td>\n",
       "      <td>0</td>\n",
       "      <td>0</td>\n",
       "      <td>0</td>\n",
       "      <td>0</td>\n",
       "      <td>0</td>\n",
       "      <td>0</td>\n",
       "      <td>0</td>\n",
       "      <td>0</td>\n",
       "    </tr>\n",
       "    <tr>\n",
       "      <th>9997</th>\n",
       "      <td>634</td>\n",
       "      <td>0</td>\n",
       "      <td>0</td>\n",
       "      <td>0</td>\n",
       "      <td>0</td>\n",
       "      <td>0</td>\n",
       "      <td>0</td>\n",
       "      <td>0</td>\n",
       "      <td>0</td>\n",
       "      <td>0</td>\n",
       "      <td>...</td>\n",
       "      <td>0</td>\n",
       "      <td>0</td>\n",
       "      <td>0</td>\n",
       "      <td>0</td>\n",
       "      <td>0</td>\n",
       "      <td>0</td>\n",
       "      <td>0</td>\n",
       "      <td>0</td>\n",
       "      <td>0</td>\n",
       "      <td>0</td>\n",
       "    </tr>\n",
       "    <tr>\n",
       "      <th>9998</th>\n",
       "      <td>10057</td>\n",
       "      <td>0</td>\n",
       "      <td>0</td>\n",
       "      <td>0</td>\n",
       "      <td>0</td>\n",
       "      <td>0</td>\n",
       "      <td>0</td>\n",
       "      <td>0</td>\n",
       "      <td>0</td>\n",
       "      <td>0</td>\n",
       "      <td>...</td>\n",
       "      <td>0</td>\n",
       "      <td>0</td>\n",
       "      <td>0</td>\n",
       "      <td>0</td>\n",
       "      <td>0</td>\n",
       "      <td>0</td>\n",
       "      <td>0</td>\n",
       "      <td>0</td>\n",
       "      <td>0</td>\n",
       "      <td>0</td>\n",
       "    </tr>\n",
       "    <tr>\n",
       "      <th>9999</th>\n",
       "      <td>13345</td>\n",
       "      <td>0</td>\n",
       "      <td>0</td>\n",
       "      <td>0</td>\n",
       "      <td>0</td>\n",
       "      <td>0</td>\n",
       "      <td>0</td>\n",
       "      <td>0</td>\n",
       "      <td>0</td>\n",
       "      <td>0</td>\n",
       "      <td>...</td>\n",
       "      <td>0</td>\n",
       "      <td>0</td>\n",
       "      <td>0</td>\n",
       "      <td>0</td>\n",
       "      <td>0</td>\n",
       "      <td>0</td>\n",
       "      <td>0</td>\n",
       "      <td>0</td>\n",
       "      <td>0</td>\n",
       "      <td>0</td>\n",
       "    </tr>\n",
       "  </tbody>\n",
       "</table>\n",
       "<p>10000 rows × 785 columns</p>\n",
       "</div>"
      ],
      "text/plain": [
       "         ID  pixel0  pixel1  pixel2  pixel3  pixel4  pixel5  pixel6  pixel7  \\\n",
       "0     15795       0       0       0       0       0       0       0       0   \n",
       "1       860       0       0       0       0       0       0       0       0   \n",
       "2      5390       0       0       0       0       0       0       0       0   \n",
       "3     11964       0       0       0       0       0       0       0       0   \n",
       "4     11284       0       0       0       0       0       0       0       0   \n",
       "...     ...     ...     ...     ...     ...     ...     ...     ...     ...   \n",
       "9995  11260       0       0       0       0       0       0       0       0   \n",
       "9996  18563       0       0       0       0       0       0       0       0   \n",
       "9997    634       0       0       0       0       0       0       0       0   \n",
       "9998  10057       0       0       0       0       0       0       0       0   \n",
       "9999  13345       0       0       0       0       0       0       0       0   \n",
       "\n",
       "      pixel8  ...  pixel774  pixel775  pixel776  pixel777  pixel778  pixel779  \\\n",
       "0          0  ...         0         0         0         0         0         0   \n",
       "1          0  ...         0         0         0         0         0         0   \n",
       "2          0  ...         0         0         0         0         0         0   \n",
       "3          0  ...         0         0         0         0         0         0   \n",
       "4          0  ...         0         0         0         0         0         0   \n",
       "...      ...  ...       ...       ...       ...       ...       ...       ...   \n",
       "9995       0  ...         0         0         0         0         0         0   \n",
       "9996       0  ...         0         0         0         0         0         0   \n",
       "9997       0  ...         0         0         0         0         0         0   \n",
       "9998       0  ...         0         0         0         0         0         0   \n",
       "9999       0  ...         0         0         0         0         0         0   \n",
       "\n",
       "      pixel780  pixel781  pixel782  pixel783  \n",
       "0            0         0         0         0  \n",
       "1            0         0         0         0  \n",
       "2            0         0         0         0  \n",
       "3            0         0         0         0  \n",
       "4            0         0         0         0  \n",
       "...        ...       ...       ...       ...  \n",
       "9995         0         0         0         0  \n",
       "9996         0         0         0         0  \n",
       "9997         0         0         0         0  \n",
       "9998         0         0         0         0  \n",
       "9999         0         0         0         0  \n",
       "\n",
       "[10000 rows x 785 columns]"
      ]
     },
     "execution_count": 69,
     "metadata": {},
     "output_type": "execute_result"
    }
   ],
   "source": [
    "ot=pd.read_csv('Classification_test.csv')\n",
    "ot"
   ]
  },
  {
   "cell_type": "code",
   "execution_count": 70,
   "id": "7943991e",
   "metadata": {},
   "outputs": [],
   "source": [
    "otid=ot['ID']\n",
    "otx=ot.drop(['ID'],axis=1)\n",
    "x_test=otx.to_numpy()/255"
   ]
  },
  {
   "cell_type": "code",
   "execution_count": 77,
   "id": "dda5de8e",
   "metadata": {},
   "outputs": [],
   "source": [
    "opred=sigmoid(np.dot(model.w,x_test.T)+model.b)\n",
    "opred=predi1=np.argmax(opred,axis=0)\n",
    "opreddf=pd.DataFrame({'Id': otid,'output': opred})\n"
   ]
  },
  {
   "cell_type": "code",
   "execution_count": 79,
   "id": "e4c6a2e2",
   "metadata": {},
   "outputs": [],
   "source": [
    "opreddf.to_csv('Classification_output_logistic_regression.csv')"
   ]
  },
  {
   "cell_type": "code",
   "execution_count": null,
   "id": "b725e173",
   "metadata": {},
   "outputs": [],
   "source": []
  }
 ],
 "metadata": {
  "kernelspec": {
   "display_name": "Python 3 (ipykernel)",
   "language": "python",
   "name": "python3"
  },
  "language_info": {
   "codemirror_mode": {
    "name": "ipython",
    "version": 3
   },
   "file_extension": ".py",
   "mimetype": "text/x-python",
   "name": "python",
   "nbconvert_exporter": "python",
   "pygments_lexer": "ipython3",
   "version": "3.11.5"
  }
 },
 "nbformat": 4,
 "nbformat_minor": 5
}
